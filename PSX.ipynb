{
 "cells": [
  {
   "cell_type": "code",
   "execution_count": 71,
   "id": "6a7cce57-50bf-4811-aecf-8d61c5c04c39",
   "metadata": {},
   "outputs": [
    {
     "name": "stdout",
     "output_type": "stream",
     "text": [
      "Data exported to historical_data.csv.\n"
     ]
    }
   ],
   "source": [
    "import requests\n",
    "from bs4 import BeautifulSoup\n",
    "from datetime import datetime\n",
    "import pandas as pd\n",
    "\n",
    "url = \"https://dps.psx.com.pk/historical\"\n",
    "# Date can be change\n",
    "current_date = \"2024-10-01\"\n",
    "\n",
    "data = {\n",
    "    'date': current_date\n",
    "}\n",
    "\n",
    "# Make a POST request to fetch the data\n",
    "try:\n",
    "    response = requests.post(url, data=data)\n",
    "    response.raise_for_status()  # Raise an error for bad responses\n",
    "except requests.exceptions.RequestException as e:\n",
    "    print(f\"Error fetching data: {e}\")\n",
    "    exit()\n",
    "\n",
    "soup = BeautifulSoup(response.text, \"html.parser\")\n",
    "\n",
    "# Find all rows in the table\n",
    "rows = soup.findAll('tr')\n",
    "\n",
    "main_data = []\n",
    "\n",
    "# Loop through each row after the header\n",
    "for row in rows[1:]:\n",
    "    row_data = []\n",
    "    # Extract data from each cell\n",
    "    for item in row.findAll('td'):\n",
    "        row_data.append(item.text.strip())  # Extract and strip text from <td>\n",
    "    \n",
    "    # Skip empty rows\n",
    "    if row_data:  \n",
    "        # Append the current date\n",
    "        row_data.append(current_date)\n",
    "        main_data.append(row_data)\n",
    "\n",
    "# Check if any data was collected\n",
    "if not main_data:\n",
    "    print(\"No data found.\")\n",
    "else:\n",
    "    # Convert to a DataFrame\n",
    "    df = pd.DataFrame(main_data)\n",
    "\n",
    "    # Define your column names\n",
    "    column_names = ['SYMBOL', 'LDCP', 'OPEN', 'HIGH', 'LOW', 'CLOSE', 'CHANGE', 'CHANGE (%)', 'VOLUME', 'DATE']\n",
    "\n",
    "    # Assign new column names to the DataFrame\n",
    "    df.columns = column_names\n",
    "    \n",
    "    # Export to CSV\n",
    "    csv_filename = 'historical_data.csv'\n",
    "    df.to_csv(csv_filename, index=False)\n",
    "    print(f\"Data exported to {csv_filename}.\")\n"
   ]
  },
  {
   "cell_type": "markdown",
   "id": "4e3da9d5-cbc4-4106-bf8d-2d28e76722f4",
   "metadata": {},
   "source": [
    "## Date Enter the date you want to fetch data"
   ]
  },
  {
   "cell_type": "code",
   "execution_count": 1,
   "id": "675fe8a7-15d3-4961-bc20-fdb5122ad4e4",
   "metadata": {},
   "outputs": [
    {
     "name": "stdin",
     "output_type": "stream",
     "text": [
      "Enter the date you want to fetch data for (YYYY-MM-DD):  2024-10-09\n"
     ]
    },
    {
     "name": "stdout",
     "output_type": "stream",
     "text": [
      "Data exported to historical_data.csv.\n"
     ]
    }
   ],
   "source": [
    "import requests\n",
    "from bs4 import BeautifulSoup\n",
    "from datetime import datetime, timedelta\n",
    "import pandas as pd\n",
    "\n",
    "def fetch_historical_data(date):\n",
    "    url = \"https://dps.psx.com.pk/historical\"\n",
    "    data = {'date': date}\n",
    "\n",
    "    try:\n",
    "        response = requests.post(url, data=data)\n",
    "        response.raise_for_status()  # Raise an error for bad responses\n",
    "    except requests.exceptions.RequestException as e:\n",
    "        print(f\"Error fetching data: {e}\")\n",
    "        return None\n",
    "\n",
    "    soup = BeautifulSoup(response.text, \"html.parser\")\n",
    "    rows = soup.findAll('tr')\n",
    "\n",
    "    main_data = []\n",
    "\n",
    "    # Loop through each row after the header\n",
    "    for row in rows[1:]:\n",
    "        row_data = []\n",
    "        for item in row.findAll('td'):\n",
    "            row_data.append(item.text.strip())  # Extract and strip text from <td>\n",
    "        \n",
    "        # Skip empty rows\n",
    "        if row_data:\n",
    "            row_data.append(date)\n",
    "            main_data.append(row_data)\n",
    "\n",
    "    return main_data\n",
    "\n",
    "# Calculate the current date and the date five years ago\n",
    "current_date = datetime.now().date()\n",
    "five_years_ago = current_date - timedelta(days=5*365)  # Subtract 5 years\n",
    "\n",
    "# Prompt user for input date\n",
    "user_input_date = input(\"Enter the date you want to fetch data for (YYYY-MM-DD): \")\n",
    "user_date = datetime.strptime(user_input_date, \"%Y-%m-%d\").date()\n",
    "\n",
    "# Check if the requested date is within the last five years\n",
    "if user_date < five_years_ago:\n",
    "    print(\"Data not available for dates older than five years.\")\n",
    "else:\n",
    "    # Fetch historical data for the requested date\n",
    "    historical_data = fetch_historical_data(user_input_date)\n",
    "\n",
    "    # Check if any data was collected\n",
    "    if not historical_data:\n",
    "        print(\"No data found.\")\n",
    "    else:\n",
    "        # Convert to a DataFrame\n",
    "        df = pd.DataFrame(historical_data)\n",
    "\n",
    "        # Define your column names\n",
    "        column_names = ['SYMBOL', 'LDCP', 'OPEN', 'HIGH', 'LOW', 'CLOSE', 'CHANGE', 'CHANGE (%)', 'VOLUME', 'DATE']\n",
    "\n",
    "        # Assign new column names to the DataFrame\n",
    "        df.columns = column_names\n",
    "\n",
    "        # Export to CSV\n",
    "        csv_filename = 'historical_data.csv'\n",
    "        df.to_csv(csv_filename, index=False)\n",
    "        print(f\"Data exported to {csv_filename}.\")\n"
   ]
  },
  {
   "cell_type": "code",
   "execution_count": null,
   "id": "d13d0007-a59a-4036-b692-33b0e7428ad9",
   "metadata": {},
   "outputs": [],
   "source": []
  },
  {
   "cell_type": "code",
   "execution_count": null,
   "id": "6e6c2bd2-06ad-440b-bd7b-407aafcac017",
   "metadata": {},
   "outputs": [],
   "source": []
  }
 ],
 "metadata": {
  "kernelspec": {
   "display_name": "Python 3 (ipykernel)",
   "language": "python",
   "name": "python3"
  },
  "language_info": {
   "codemirror_mode": {
    "name": "ipython",
    "version": 3
   },
   "file_extension": ".py",
   "mimetype": "text/x-python",
   "name": "python",
   "nbconvert_exporter": "python",
   "pygments_lexer": "ipython3",
   "version": "3.11.5"
  }
 },
 "nbformat": 4,
 "nbformat_minor": 5
}
