{
 "cells": [
  {
   "cell_type": "code",
   "execution_count": null,
   "id": "910a2bbe",
   "metadata": {},
   "outputs": [],
   "source": [
    "## share_price"
   ]
  },
  {
   "cell_type": "code",
   "execution_count": 43,
   "id": "5a6680cb",
   "metadata": {},
   "outputs": [
    {
     "name": "stdout",
     "output_type": "stream",
     "text": [
      "    sdate         fdate ksecode               company  open  high   low close  \\\n",
      "0          Aug 30, 2024    NEXT  Next Capital Limited  5.17  5.48  4.80  4.83   \n",
      "1          Aug 29, 2024    NEXT  Next Capital Limited  5.23  5.23  5.22  5.22   \n",
      "2          Aug 28, 2024    NEXT  Next Capital Limited  5.22  5.45  5.22  5.22   \n",
      "3          Aug 27, 2024    NEXT  Next Capital Limited  5.15  5.45  5.00  5.26   \n",
      "4          Aug 26, 2024    NEXT  Next Capital Limited  5.50  5.74  5.23  5.40   \n",
      "..    ...           ...     ...                   ...   ...   ...   ...   ...   \n",
      "240        Sep 06, 2023    NEXT  Next Capital Limited  4.98  0.00  0.00  4.98   \n",
      "241        Sep 05, 2023    NEXT  Next Capital Limited  5.49  5.49  4.61  4.98   \n",
      "242        Sep 04, 2023    NEXT  Next Capital Limited  5.38  5.38  5.20  5.20   \n",
      "243        Sep 01, 2023    NEXT  Next Capital Limited  4.83  0.00  0.00  4.83   \n",
      "244        Aug 31, 2023    NEXT  Next Capital Limited  4.64  4.94  4.60  4.83   \n",
      "\n",
      "    average turnover  ldcp  \n",
      "0      5.04  219,225  5.22  \n",
      "1      5.22   28,750  5.22  \n",
      "2      5.23   10,401  5.26  \n",
      "3      5.22   27,627  5.40  \n",
      "4      5.39    5,558  5.50  \n",
      "..      ...      ...   ...  \n",
      "240    0.00        0  4.98  \n",
      "241    0.00    5,000  5.20  \n",
      "242    0.00    1,500  4.83  \n",
      "243    0.00        0  4.83  \n",
      "244    0.00   32,500  5.00  \n",
      "\n",
      "[245 rows x 11 columns]\n"
     ]
    }
   ],
   "source": [
    "import pandas as pd\n",
    "import requests\n",
    "\n",
    "tickter = \"NEXT\"\n",
    "start_date = \"2024-08-31\"\n",
    "end_date = \"2023-08-31\"\n",
    "\n",
    "# Define the URL\n",
    "url = f\"https://markets.brecorder.com/ajax/daily_archive/?kseid={tickter}&term=1&term_table=company_rates&from={end_date}&to={start_date}\"\n",
    "\n",
    "# Sending a POST request\n",
    "response = requests.post(url)\n",
    "\n",
    "if response.status_code == 200:\n",
    "    # Parse the JSON response\n",
    "    json_data = response.json()  # Assuming the response is in JSON format\n",
    "\n",
    "    # Extracting the \"data\" key\n",
    "    data_list = json_data.get(\"data\", [])\n",
    "\n",
    "    # Creating a DataFrame\n",
    "    df = pd.DataFrame(data_list)\n",
    "\n",
    "    # Displaying the DataFrame\n",
    "    print(df)\n",
    "else:\n",
    "    print(f\"Failed to retrieve data: {response.status_code}\")\n"
   ]
  },
  {
   "cell_type": "code",
   "execution_count": null,
   "id": "dfbb08b7",
   "metadata": {},
   "outputs": [],
   "source": [
    "## Dividend of copunay "
   ]
  },
  {
   "cell_type": "code",
   "execution_count": 51,
   "id": "3b93d994",
   "metadata": {},
   "outputs": [
    {
     "name": "stdout",
     "output_type": "stream",
     "text": [
      "      company_name  Year Bonus Shares Cash Dividend Right Shares\n",
      "0   786 Invest Ltd  2023         0.00          0.00         0.00\n",
      "1   786 Invest Ltd  2022         0.00          0.00         0.00\n",
      "2   786 Invest Ltd  2021         0.00          0.00         0.00\n",
      "3   786 Invest Ltd  2020         0.00          0.00         0.00\n",
      "4   786 Invest Ltd  2019         0.00          0.00         0.00\n",
      "5   786 Invest Ltd  2017         0.00          0.00         0.00\n",
      "6   786 Invest Ltd  2016         0.00          0.00         0.00\n",
      "7   786 Invest Ltd  2015         0.00          0.00         0.00\n",
      "8   786 Invest Ltd  2013         0.00          0.00         0.00\n",
      "9   786 Invest Ltd  2012         0.00          0.00         0.00\n",
      "10  786 Invest Ltd  2011         0.00          0.00         0.00\n",
      "11  786 Invest Ltd  2010         0.00          0.00         0.00\n",
      "12  786 Invest Ltd  2009         0.00          0.00         0.00\n",
      "13  786 Invest Ltd  2008        10.00          0.00         0.00\n",
      "14  786 Invest Ltd  2007        12.50          0.00         0.00\n",
      "15  786 Invest Ltd  2006        10.00          0.00         0.00\n",
      "16  786 Invest Ltd  2005        10.00          0.00         0.00\n",
      "17  786 Invest Ltd  2004         0.00          0.00         0.00\n",
      "18  786 Invest Ltd  2003         0.00         10.00         0.00\n",
      "19  786 Invest Ltd  2001         0.00          0.00         0.00\n"
     ]
    }
   ],
   "source": [
    "import pandas as pd\n",
    "import requests\n",
    "\n",
    "c_id = \"1323\"\n",
    "start_date = \"2000\"\n",
    "end_date = \"2023\" \n",
    "\n",
    "# Define the URL\n",
    "url = f\"https://markets.brecorder.com/ajax/dividend_data/?from={start_date}&to={end_date}&id={c_id}\"\n",
    "\n",
    "# Sending a POST request\n",
    "response = requests.post(url)\n",
    "\n",
    "if response.status_code == 200:\n",
    "    # Parse the JSON response\n",
    "    json_data = response.json()  # Assuming the response is in JSON format\n",
    "\n",
    "    # Extracting the \"data\" key\n",
    "    data_list = json_data.get(\"data\", [])\n",
    "\n",
    "    # Creating a DataFrame\n",
    "    df = pd.DataFrame(data_list)\n",
    "    \n",
    "    # Rename the columns\n",
    "    df.rename(columns={\n",
    "    'smallname': 'company_name',\n",
    "    'year': 'Year',\n",
    "    'XB': 'Bonus Shares',\n",
    "    'XD': 'Cash Dividend',\n",
    "    'XR': 'Right Shares'\n",
    "    }, inplace=True)\n",
    "    \n",
    "    print(df)\n",
    "\n",
    "else:\n",
    "    print(f\"Failed to retrieve data: {response.status_code}\")\n"
   ]
  }
 ],
 "metadata": {
  "kernelspec": {
   "display_name": "Python 3 (ipykernel)",
   "language": "python",
   "name": "python3"
  },
  "language_info": {
   "codemirror_mode": {
    "name": "ipython",
    "version": 3
   },
   "file_extension": ".py",
   "mimetype": "text/x-python",
   "name": "python",
   "nbconvert_exporter": "python",
   "pygments_lexer": "ipython3",
   "version": "3.11.4"
  }
 },
 "nbformat": 4,
 "nbformat_minor": 5
}
